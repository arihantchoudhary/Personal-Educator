{
 "cells": [
  {
   "cell_type": "code",
   "execution_count": 4,
   "metadata": {},
   "outputs": [
    {
     "name": "stderr",
     "output_type": "stream",
     "text": [
      "2025-02-10 08:21:18.301 Thread 'MainThread': missing ScriptRunContext! This warning can be ignored when running in bare mode.\n",
      "2025-02-10 08:21:18.303 Thread 'MainThread': missing ScriptRunContext! This warning can be ignored when running in bare mode.\n",
      "2025-02-10 08:21:18.304 Thread 'MainThread': missing ScriptRunContext! This warning can be ignored when running in bare mode.\n",
      "2025-02-10 08:21:18.305 Thread 'MainThread': missing ScriptRunContext! This warning can be ignored when running in bare mode.\n",
      "2025-02-10 08:21:18.305 Thread 'MainThread': missing ScriptRunContext! This warning can be ignored when running in bare mode.\n"
     ]
    }
   ],
   "source": [
    "import io\n",
    "import streamlit as st\n",
    "import PyPDF2\n",
    "\n",
    "uploaded_file = st.file_uploader(\"Upload a multi-page PDF file\", type=[\"pdf\"])\n",
    "if uploaded_file is not None:\n",
    "    pdf_bytes = uploaded_file.read()\n",
    "    pdf_reader = PyPDF2.PdfReader(io.BytesIO(pdf_bytes))\n",
    "    num_pages = len(pdf_reader.pages)\n",
    "    st.write(f\"Total pages: {num_pages}\")\n",
    "\n",
    "    for i in range(num_pages):\n",
    "        pdf_writer = PyPDF2.PdfWriter()\n",
    "        pdf_writer.add_page(pdf_reader.pages[i])\n",
    "        output_pdf = io.BytesIO()\n",
    "        pdf_writer.write(output_pdf)\n",
    "        output_pdf.seek(0)\n",
    "        st.download_button(\n",
    "            label=f\"Download page {i+1}\",\n",
    "            data=output_pdf,\n",
    "            file_name=f\"page_{i+1}.pdf\",\n",
    "            mime=\"application/pdf\"\n",
    "        )\n",
    "if uploaded_file is not None:\n",
    "    # Initialize a dictionary to store the output pages as bytes\n",
    "    pages_map = {}\n",
    "    for i in range(num_pages):\n",
    "        pdf_writer = PyPDF2.PdfWriter()\n",
    "        pdf_writer.add_page(pdf_reader.pages[i])\n",
    "        output_pdf = io.BytesIO()\n",
    "        pdf_writer.write(output_pdf)\n",
    "        output_pdf.seek(0)\n",
    "        # Store the current page PDF in the dictionary using its file name as the key\n",
    "        pages_map[f\"page_{i+1}.pdf\"] = output_pdf.getvalue()\n",
    "    st.write(\"PDF pages have been stored in the hashmap (pages_map).\")\n",
    "    st.write(\"Available pages:\", list(pages_map.keys()))\n",
    "\n"
   ]
  },
  {
   "cell_type": "code",
   "execution_count": null,
   "metadata": {},
   "outputs": [],
   "source": []
  }
 ],
 "metadata": {
  "kernelspec": {
   "display_name": "educator",
   "language": "python",
   "name": "python3"
  },
  "language_info": {
   "codemirror_mode": {
    "name": "ipython",
    "version": 3
   },
   "file_extension": ".py",
   "mimetype": "text/x-python",
   "name": "python",
   "nbconvert_exporter": "python",
   "pygments_lexer": "ipython3",
   "version": "3.9.21"
  }
 },
 "nbformat": 4,
 "nbformat_minor": 2
}
